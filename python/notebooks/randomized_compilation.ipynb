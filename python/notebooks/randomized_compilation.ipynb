{
 "cells": [
  {
   "cell_type": "code",
   "execution_count": 1,
   "id": "7d8241d1-b01e-4c37-938b-487e392cfcfa",
   "metadata": {},
   "outputs": [],
   "source": [
    "import numpy as np\n",
    "import scipy"
   ]
  },
  {
   "cell_type": "code",
   "execution_count": 1,
   "id": "b8136347-fa5c-45a6-b059-549eeae2cba6",
   "metadata": {},
   "outputs": [
    {
     "name": "stdout",
     "output_type": "stream",
     "text": [
      "Requirement already satisfied: scipy in c:\\users\\sashw\\appdata\\local\\programs\\python\\python39\\lib\\site-packages (1.11.4)\n",
      "Requirement already satisfied: numpy<1.28.0,>=1.21.6 in c:\\users\\sashw\\appdata\\local\\programs\\python\\python39\\lib\\site-packages (from scipy) (1.22.4)\n"
     ]
    },
    {
     "name": "stderr",
     "output_type": "stream",
     "text": [
      "\n",
      "[notice] A new release of pip is available: 24.0 -> 24.2\n",
      "[notice] To update, run: python.exe -m pip install --upgrade pip\n"
     ]
    }
   ],
   "source": [
    "!pip install scipy"
   ]
  },
  {
   "cell_type": "code",
   "execution_count": 2,
   "id": "fa648cc3-534d-4f08-929b-9bd53a7505d6",
   "metadata": {},
   "outputs": [],
   "source": [
    "paulis = [\n",
    "    [[1, 0], [0, 1]],\n",
    "    [[0, 1], [1, 0]],\n",
    "    [[0, -1j], [1j, 0]],\n",
    "    [[1, 0], [0, -1]]\n",
    "]\n",
    "\n",
    "paulis = np.array(paulis, dtype=np.complex128)"
   ]
  },
  {
   "cell_type": "code",
   "execution_count": 7,
   "id": "95db8d68",
   "metadata": {},
   "outputs": [
    {
     "name": "stdout",
     "output_type": "stream",
     "text": [
      "[[ 0.70710678+0.j  0.70710678+0.j]\n",
      " [ 0.70710678+0.j -0.70710678+0.j]]\n",
      "\n",
      "[[ 0.70710678+0.j  0.70710678+0.j]\n",
      " [-0.70710678+0.j  0.70710678+0.j]]\n",
      "\n",
      "[[0.+0.70710678j 0.-0.70710678j]\n",
      " [0.-0.70710678j 0.-0.70710678j]]\n",
      "\n",
      "[[ 0.70710678+0.j -0.70710678+0.j]\n",
      " [ 0.70710678+0.j  0.70710678+0.j]]\n",
      "\n"
     ]
    }
   ],
   "source": [
    "h = [[1, 1], [1, -1]]\n",
    "h = 0.5 * np.sqrt(2) * np.array(h, dtype=np.complex128)\n",
    "\n",
    "for pauli in paulis:\n",
    "    print(np.matmul(h, pauli))\n",
    "    print()"
   ]
  },
  {
   "cell_type": "markdown",
   "id": "9420fa2a",
   "metadata": {},
   "source": [
    "### Hadamard"
   ]
  },
  {
   "cell_type": "code",
   "execution_count": 5,
   "id": "32538f15",
   "metadata": {},
   "outputs": [
    {
     "data": {
      "text/plain": [
       "array([[ 0.70710678+0.j,  0.70710678+0.j],\n",
       "       [ 0.70710678+0.j, -0.70710678+0.j]])"
      ]
     },
     "execution_count": 5,
     "metadata": {},
     "output_type": "execute_result"
    }
   ],
   "source": [
    "h = [[1, 1], [1, -1]]\n",
    "h = 0.5 * np.sqrt(2) * np.array(h, dtype=np.complex128)\n",
    "\n",
    "h"
   ]
  },
  {
   "cell_type": "code",
   "execution_count": 7,
   "id": "c33d8f18",
   "metadata": {},
   "outputs": [
    {
     "data": {
      "text/plain": [
       "array([[-0.70710678+0.j, -0.70710678+0.j],\n",
       "       [-0.70710678+0.j,  0.70710678+0.j]])"
      ]
     },
     "execution_count": 7,
     "metadata": {},
     "output_type": "execute_result"
    }
   ],
   "source": [
    "np.matmul(paulis[2], np.matmul(h, paulis[2]))"
   ]
  },
  {
   "cell_type": "code",
   "execution_count": 5,
   "id": "8bf59ce6",
   "metadata": {},
   "outputs": [
    {
     "name": "stdout",
     "output_type": "stream",
     "text": [
      "[[1.00000000e+00+0.j 4.26642159e-17+0.j]\n",
      " [4.26642159e-17+0.j 1.00000000e+00+0.j]]\n",
      "[[ 1.00000000e+00+0.j  4.26642159e-17+0.j]\n",
      " [-4.26642159e-17+0.j -1.00000000e+00+0.j]]\n",
      "[[0.+4.26642159e-17j 0.+1.00000000e+00j]\n",
      " [0.-1.00000000e+00j 0.-4.26642159e-17j]]\n",
      "[[4.26642159e-17+0.j 1.00000000e+00+0.j]\n",
      " [1.00000000e+00+0.j 4.26642159e-17+0.j]]\n"
     ]
    }
   ],
   "source": [
    "for pauli in paulis:\n",
    "    print(np.matmul(np.matmul(h, pauli), h))"
   ]
  },
  {
   "cell_type": "markdown",
   "id": "48693b17",
   "metadata": {},
   "source": [
    "### S (Phase)"
   ]
  },
  {
   "cell_type": "code",
   "execution_count": 8,
   "id": "662d3fb4",
   "metadata": {},
   "outputs": [
    {
     "data": {
      "text/plain": [
       "array([[1.+0.j, 0.+0.j],\n",
       "       [0.+0.j, 0.+1.j]])"
      ]
     },
     "execution_count": 8,
     "metadata": {},
     "output_type": "execute_result"
    }
   ],
   "source": [
    "s = [[1, 0], [0, 1j]]\n",
    "s = np.array(s, dtype=np.complex128)\n",
    "\n",
    "s"
   ]
  },
  {
   "cell_type": "code",
   "execution_count": 10,
   "id": "98d84b93",
   "metadata": {},
   "outputs": [
    {
     "name": "stdout",
     "output_type": "stream",
     "text": [
      "[[1.+0.j 0.+0.j]\n",
      " [0.+0.j 1.+0.j]]\n",
      "[[0.+0.j 0.+1.j]\n",
      " [0.-1.j 0.+0.j]]\n",
      "[[0.+0.j 1.+0.j]\n",
      " [1.+0.j 0.+0.j]]\n",
      "[[ 1.+0.j  0.+0.j]\n",
      " [ 0.+0.j -1.+0.j]]\n"
     ]
    }
   ],
   "source": [
    "for pauli in paulis:\n",
    "    print(np.matmul(np.matmul(np.conj(s.T), pauli), s))"
   ]
  },
  {
   "cell_type": "markdown",
   "id": "8ac590f7",
   "metadata": {},
   "source": [
    "### CNOT"
   ]
  },
  {
   "cell_type": "code",
   "execution_count": 7,
   "id": "12e903fa-ae94-4e9f-8404-473d6fda0fa9",
   "metadata": {},
   "outputs": [
    {
     "data": {
      "text/plain": [
       "array([[1.+0.j, 0.+0.j, 0.+0.j, 0.+0.j],\n",
       "       [0.+0.j, 1.+0.j, 0.+0.j, 0.+0.j],\n",
       "       [0.+0.j, 0.+0.j, 0.+0.j, 1.+0.j],\n",
       "       [0.+0.j, 0.+0.j, 1.+0.j, 0.+0.j]])"
      ]
     },
     "execution_count": 7,
     "metadata": {},
     "output_type": "execute_result"
    }
   ],
   "source": [
    "cx = [[1, 0, 0, 0], [0, 1, 0, 0], [0, 0, 0, 1], [0, 0, 1, 0]]\n",
    "cx = np.array(cx, dtype=np.complex128)\n",
    "\n",
    "cx"
   ]
  },
  {
   "cell_type": "code",
   "execution_count": 12,
   "id": "5a7c01f4-1280-4cd2-98ba-974472cb2f7c",
   "metadata": {},
   "outputs": [
    {
     "name": "stdout",
     "output_type": "stream",
     "text": [
      "[[1.+0.j 0.+0.j 0.+0.j 0.+0.j]\n",
      " [0.+0.j 1.+0.j 0.+0.j 0.+0.j]\n",
      " [0.+0.j 0.+0.j 1.+0.j 0.+0.j]\n",
      " [0.+0.j 0.+0.j 0.+0.j 1.+0.j]]\n",
      "[[0.+0.j 1.+0.j 0.+0.j 0.+0.j]\n",
      " [1.+0.j 0.+0.j 0.+0.j 0.+0.j]\n",
      " [0.+0.j 0.+0.j 0.+0.j 1.+0.j]\n",
      " [0.+0.j 0.+0.j 1.+0.j 0.+0.j]]\n",
      "[[0.+0.j 0.-1.j 0.+0.j 0.+0.j]\n",
      " [0.+1.j 0.+0.j 0.+0.j 0.+0.j]\n",
      " [0.+0.j 0.+0.j 0.+0.j 0.+1.j]\n",
      " [0.+0.j 0.+0.j 0.-1.j 0.+0.j]]\n",
      "[[ 1.+0.j  0.+0.j  0.+0.j  0.+0.j]\n",
      " [ 0.+0.j -1.+0.j  0.+0.j  0.+0.j]\n",
      " [ 0.+0.j  0.+0.j -1.+0.j  0.+0.j]\n",
      " [ 0.+0.j  0.+0.j  0.+0.j  1.+0.j]]\n",
      "[[0.+0.j 0.+0.j 0.+0.j 1.+0.j]\n",
      " [0.+0.j 0.+0.j 1.+0.j 0.+0.j]\n",
      " [0.+0.j 1.+0.j 0.+0.j 0.+0.j]\n",
      " [1.+0.j 0.+0.j 0.+0.j 0.+0.j]]\n",
      "[[0.+0.j 0.+0.j 1.+0.j 0.+0.j]\n",
      " [0.+0.j 0.+0.j 0.+0.j 1.+0.j]\n",
      " [1.+0.j 0.+0.j 0.+0.j 0.+0.j]\n",
      " [0.+0.j 1.+0.j 0.+0.j 0.+0.j]]\n",
      "[[0.+0.j 0.+0.j 0.-1.j 0.+0.j]\n",
      " [0.+0.j 0.+0.j 0.+0.j 0.+1.j]\n",
      " [0.+1.j 0.+0.j 0.+0.j 0.+0.j]\n",
      " [0.+0.j 0.-1.j 0.+0.j 0.+0.j]]\n",
      "[[ 0.+0.j  0.+0.j  0.+0.j  1.+0.j]\n",
      " [ 0.+0.j  0.+0.j -1.+0.j  0.+0.j]\n",
      " [ 0.+0.j -1.+0.j  0.+0.j  0.+0.j]\n",
      " [ 1.+0.j  0.+0.j  0.+0.j  0.+0.j]]\n",
      "[[0.+0.j 0.+0.j 0.+0.j 0.-1.j]\n",
      " [0.+0.j 0.+0.j 0.-1.j 0.+0.j]\n",
      " [0.+0.j 0.+1.j 0.+0.j 0.+0.j]\n",
      " [0.+1.j 0.+0.j 0.+0.j 0.+0.j]]\n",
      "[[0.+0.j 0.+0.j 0.-1.j 0.+0.j]\n",
      " [0.+0.j 0.+0.j 0.+0.j 0.-1.j]\n",
      " [0.+1.j 0.+0.j 0.+0.j 0.+0.j]\n",
      " [0.+0.j 0.+1.j 0.+0.j 0.+0.j]]\n",
      "[[ 0.+0.j  0.+0.j -1.+0.j  0.+0.j]\n",
      " [ 0.+0.j  0.+0.j  0.+0.j  1.+0.j]\n",
      " [-1.+0.j  0.+0.j  0.+0.j  0.+0.j]\n",
      " [ 0.+0.j  1.+0.j  0.+0.j  0.+0.j]]\n",
      "[[0.+0.j 0.+0.j 0.+0.j 0.-1.j]\n",
      " [0.+0.j 0.+0.j 0.+1.j 0.+0.j]\n",
      " [0.+0.j 0.-1.j 0.+0.j 0.+0.j]\n",
      " [0.+1.j 0.+0.j 0.+0.j 0.+0.j]]\n",
      "[[ 1.+0.j  0.+0.j  0.+0.j  0.+0.j]\n",
      " [ 0.+0.j  1.+0.j  0.+0.j  0.+0.j]\n",
      " [ 0.+0.j  0.+0.j -1.+0.j  0.+0.j]\n",
      " [ 0.+0.j  0.+0.j  0.+0.j -1.+0.j]]\n",
      "[[ 0.+0.j  1.+0.j  0.+0.j  0.+0.j]\n",
      " [ 1.+0.j  0.+0.j  0.+0.j  0.+0.j]\n",
      " [ 0.+0.j  0.+0.j  0.+0.j -1.+0.j]\n",
      " [ 0.+0.j  0.+0.j -1.+0.j  0.+0.j]]\n",
      "[[0.+0.j 0.-1.j 0.+0.j 0.+0.j]\n",
      " [0.+1.j 0.+0.j 0.+0.j 0.+0.j]\n",
      " [0.+0.j 0.+0.j 0.+0.j 0.-1.j]\n",
      " [0.+0.j 0.+0.j 0.+1.j 0.+0.j]]\n",
      "[[ 1.+0.j  0.+0.j  0.+0.j  0.+0.j]\n",
      " [ 0.+0.j -1.+0.j  0.+0.j  0.+0.j]\n",
      " [ 0.+0.j  0.+0.j  1.+0.j  0.+0.j]\n",
      " [ 0.+0.j  0.+0.j  0.+0.j -1.+0.j]]\n"
     ]
    }
   ],
   "source": [
    "for pauli in paulis:\n",
    "    for other_pauli in paulis:\n",
    "        pauli_op = np.kron(pauli, other_pauli)\n",
    "\n",
    "        print(np.matmul(np.matmul(cx, pauli_op), cx))"
   ]
  },
  {
   "cell_type": "markdown",
   "id": "98b8c263",
   "metadata": {},
   "source": [
    "### KAK decomposition of CNOT"
   ]
  },
  {
   "cell_type": "code",
   "execution_count": 39,
   "id": "de43f403",
   "metadata": {},
   "outputs": [
    {
     "name": "stdout",
     "output_type": "stream",
     "text": [
      "[[0.70710678+0.j         0.        +0.j         0.        +0.j\n",
      "  0.        +0.70710678j]\n",
      " [0.        +0.j         0.70710678+0.j         0.        +0.70710678j\n",
      "  0.        +0.j        ]\n",
      " [0.        +0.j         0.        +0.70710678j 0.70710678+0.j\n",
      "  0.        +0.j        ]\n",
      " [0.        +0.70710678j 0.        +0.j         0.        +0.j\n",
      "  0.70710678+0.j        ]]\n",
      "[[ 0.5+5.00000000e-01j  0. -1.23259516e-32j  0.5-5.00000000e-01j\n",
      "   0. +1.23259516e-32j]\n",
      " [ 0. +1.23259516e-32j  0.5-5.00000000e-01j  0. -1.23259516e-32j\n",
      "   0.5+5.00000000e-01j]\n",
      " [ 0.5+5.00000000e-01j  0. -1.23259516e-32j -0.5+5.00000000e-01j\n",
      "   0. -1.23259516e-32j]\n",
      " [ 0. +1.23259516e-32j  0.5-5.00000000e-01j  0. +1.23259516e-32j\n",
      "  -0.5-5.00000000e-01j]]\n"
     ]
    }
   ],
   "source": [
    "hadamard = np.array([[1, 1], [1, -1]]) / np.sqrt(2)\n",
    "\n",
    "kak_params = np.array([1 / np.sqrt(2), 1j / np.sqrt(2), 0, 0]).astype(np.complex128)\n",
    "paulis = [\n",
    "    [[1, 0], [0, 1]],\n",
    "    [[0, 1], [1, 0]],\n",
    "    [[0, -1j], [1j, 0]],\n",
    "    [[1, 0], [0, -1]]\n",
    "]\n",
    "\n",
    "paulis = np.array(paulis).astype(np.complex128)\n",
    "\n",
    "cnot_kak_nonlocal = scipy.linalg.expm(1j * 0.25 * np.pi * np.kron(paulis[1], paulis[1]))\n",
    "    \n",
    "print(cnot_kak_nonlocal)\n",
    "\n",
    "print(np.matmul(np.matmul(np.kron(paulis[0], hadamard), cnot_kak_nonlocal), np.kron(hadamard, hadamard)))"
   ]
  },
  {
   "cell_type": "code",
   "execution_count": 23,
   "id": "7dc095dd",
   "metadata": {},
   "outputs": [],
   "source": [
    "import qiskit"
   ]
  },
  {
   "cell_type": "code",
   "execution_count": 100,
   "id": "a8e51aac",
   "metadata": {},
   "outputs": [],
   "source": [
    "cnot_matrix = np.array(\n",
    "    [\n",
    "        [1, 0, 0, 0],\n",
    "        [0, 0, 0, 1],\n",
    "        [0, 0, 1, 0],\n",
    "        [0, 1, 0, 0],\n",
    "    ]\n",
    ")\n",
    "\n",
    "ret = qiskit.synthesis.TwoQubitWeylDecomposition(cnot_matrix)"
   ]
  },
  {
   "cell_type": "code",
   "execution_count": 102,
   "id": "65620ba4",
   "metadata": {},
   "outputs": [
    {
     "data": {
      "text/plain": [
       "TwoQubitWeylDecomposition.from_bytes(\n",
       "    # TwoQubitWeylDecomposition [specialization=ControlledEquiv] (\n",
       "    # \tglobal phase: π/4\n",
       "    # \t       ┌──────────┐ ┌────────┐┌────────────┐ ┌─────────┐ ┌─────────┐\n",
       "    # \tq_0: ──┤ Ry(-π/2) ├─┤ Rx(-π) ├┤0           ├─┤ Rx(π/2) ├─┤ Ry(π/2) ├\n",
       "    # \t     ┌─┴──────────┴┐├───────┬┘│  Rxx(-π/2) │┌┴─────────┴┐└┬───────┬┘\n",
       "    # \tq_1: ┤ Rx(-2.1873) ├┤ Ry(π) ├─┤1           ├┤ Rx(2.525) ├─┤ Ry(π) ├─\n",
       "    # \t     └─────────────┘└───────┘ └────────────┘└───────────┘ └───────┘\n",
       "    # )\n",
       "    b'k05VTVBZAQB2AHsnZGVzY3InOiAnPGMxNicsICdmb3J0cmFuX29yZGVyJzogRmFsc2UsICdzaGFw'\n",
       "    b'ZSc6ICg0LCA0KSwgfSAgICAgICAgICAgICAgICAgICAgICAgICAgICAgICAgICAgICAgICAgICAg'\n",
       "    b'ICAgICAgICAgICAgIAoAAAAAAADwPwAAAAAAAAAAAAAAAAAAAAAAAAAAAAAAAAAAAAAAAAAAAAAA'\n",
       "    b'AAAAAAAAAAAAAAAAAAAAAAAAAAAAAAAAAAAAAAAAAAAAAAAAAAAAAAAAAAAAAAAAAAAAAAAAAAAA'\n",
       "    b'AAAAAAAAAAAAAAAAAAAAAAAA8D8AAAAAAAAAAAAAAAAAAAAAAAAAAAAAAAAAAAAAAAAAAAAAAAAA'\n",
       "    b'AAAAAAAAAAAA8D8AAAAAAAAAAAAAAAAAAAAAAAAAAAAAAAAAAAAAAAAAAAAAAAAAAAAAAAAAAAAA'\n",
       "    b'8D8AAAAAAAAAAAAAAAAAAAAAAAAAAAAAAAAAAAAAAAAAAAAAAAAAAAAA',\n",
       "    requested_fidelity=0.999999999,\n",
       "    _specialization=TwoQubitWeylDecomposition._specializations.ControlledEquiv,\n",
       "    calculated_fidelity=1.0,\n",
       "    actual_fidelity=1.0000000000000007,\n",
       "    abc=(0.7853981633974483, 0.0, 0.0))"
      ]
     },
     "execution_count": 102,
     "metadata": {},
     "output_type": "execute_result"
    }
   ],
   "source": [
    "ret"
   ]
  },
  {
   "cell_type": "code",
   "execution_count": 3,
   "id": "b54131b4",
   "metadata": {},
   "outputs": [],
   "source": [
    "paulis = [\n",
    "    [[1, 0], [0, 1]],\n",
    "    [[0, 1], [1, 0]],\n",
    "    [[0, -1j], [1j, 0]],\n",
    "    [[1, 0], [0, -1]]\n",
    "]\n",
    "\n",
    "paulis = np.array(paulis)\n",
    "\n",
    "\n",
    "def rx(angle):\n",
    "    return scipy.linalg.expm(-1j * 0.5 * angle * paulis[1])\n",
    "\n",
    "\n",
    "def ry(angle):\n",
    "    return scipy.linalg.expm(-1j * 0.5 * angle * paulis[2])\n",
    "\n",
    "\n",
    "def rxx(angle):\n",
    "    return scipy.linalg.expm(-1j * 0.5 * angle * np.kron(paulis[1], paulis[1]))"
   ]
  },
  {
   "cell_type": "code",
   "execution_count": 104,
   "id": "39fb98ad",
   "metadata": {},
   "outputs": [
    {
     "data": {
      "text/plain": [
       "2.0943951023931953"
      ]
     },
     "execution_count": 104,
     "metadata": {},
     "output_type": "execute_result"
    }
   ],
   "source": [
    "4 * np.pi / 6"
   ]
  },
  {
   "cell_type": "code",
   "execution_count": 105,
   "id": "1a0203d5",
   "metadata": {},
   "outputs": [],
   "source": [
    "gate_1 = np.kron(np.matmul(rx(-np.pi), ry(np.pi / 2)), np.matmul(rx(-np.pi), np.matmul(ry(np.pi), rx(np.pi))))\n",
    "gate_2 = rxx(-np.pi / 2)\n",
    "gate_3 = np.kron(np.matmul(rx(np.pi / 2), ry(np.pi / 2)), np.matmul(rx(np.pi / 2), ry(np.pi)))"
   ]
  },
  {
   "cell_type": "code",
   "execution_count": 106,
   "id": "512b40b2",
   "metadata": {},
   "outputs": [
    {
     "data": {
      "text/plain": [
       "array([[ 7.07106781e-01+7.07106781e-01j,  0.00000000e+00+0.00000000e+00j,\n",
       "         5.55111512e-17+5.55111512e-17j, -7.85046229e-17-7.85046229e-17j],\n",
       "       [ 0.00000000e+00+0.00000000e+00j,  7.07106781e-01+7.07106781e-01j,\n",
       "        -7.85046229e-17-7.85046229e-17j,  5.55111512e-17+5.55111512e-17j],\n",
       "       [ 5.55111512e-17+5.55111512e-17j, -5.55111512e-17-5.55111512e-17j,\n",
       "         1.11022302e-16-1.11022302e-16j,  7.07106781e-01+7.07106781e-01j],\n",
       "       [-5.55111512e-17-5.55111512e-17j,  5.55111512e-17+5.55111512e-17j,\n",
       "         7.07106781e-01+7.07106781e-01j,  1.11022302e-16-1.11022302e-16j]])"
      ]
     },
     "execution_count": 106,
     "metadata": {},
     "output_type": "execute_result"
    }
   ],
   "source": [
    "np.matmul(np.matmul(gate_1, gate_2), gate_3)"
   ]
  },
  {
   "cell_type": "code",
   "execution_count": 4,
   "id": "1abfaba5",
   "metadata": {},
   "outputs": [
    {
     "data": {
      "text/plain": [
       "array([[ 0.+0.j,  1.+0.j],\n",
       "       [-1.+0.j,  0.+0.j]])"
      ]
     },
     "execution_count": 4,
     "metadata": {},
     "output_type": "execute_result"
    }
   ],
   "source": [
    "np.matmul(rx(-np.pi), np.matmul(ry(np.pi), rx(np.pi)))"
   ]
  },
  {
   "cell_type": "code",
   "execution_count": 5,
   "id": "0c4f0133",
   "metadata": {},
   "outputs": [
    {
     "data": {
      "text/plain": [
       "array([[ 0.+0.j,  1.+0.j],\n",
       "       [-1.+0.j,  0.+0.j]])"
      ]
     },
     "execution_count": 5,
     "metadata": {},
     "output_type": "execute_result"
    }
   ],
   "source": [
    "np.matmul(paulis[3], paulis[1])"
   ]
  }
 ],
 "metadata": {
  "kernelspec": {
   "display_name": "ensemble_compilation_env",
   "language": "python",
   "name": "ensemble_compilation_env"
  },
  "language_info": {
   "codemirror_mode": {
    "name": "ipython",
    "version": 3
   },
   "file_extension": ".py",
   "mimetype": "text/x-python",
   "name": "python",
   "nbconvert_exporter": "python",
   "pygments_lexer": "ipython3",
   "version": "3.11.6"
  }
 },
 "nbformat": 4,
 "nbformat_minor": 5
}
