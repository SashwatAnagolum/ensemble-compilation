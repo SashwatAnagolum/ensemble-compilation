{
 "cells": [
  {
   "cell_type": "markdown",
   "id": "90783385",
   "metadata": {},
   "source": [
    "# Qiskit Benchmarks"
   ]
  },
  {
   "cell_type": "markdown",
   "id": "34b9a9f9",
   "metadata": {},
   "source": [
    "## Imports and setup"
   ]
  },
  {
   "cell_type": "code",
   "execution_count": 1,
   "id": "94c760a1",
   "metadata": {},
   "outputs": [],
   "source": [
    "import qiskit\n",
    "import mitiq\n",
    "import time\n",
    "import numpy as np\n",
    "import collections\n",
    "\n",
    "from qiskit_ibm_runtime import QiskitRuntimeService\n",
    "from qiskit_ibm_runtime.ibm_backend import IBMBackend"
   ]
  },
  {
   "cell_type": "markdown",
   "id": "84868546",
   "metadata": {},
   "source": [
    "## Utils"
   ]
  },
  {
   "cell_type": "code",
   "execution_count": 2,
   "id": "dd8c0a5c",
   "metadata": {},
   "outputs": [],
   "source": [
    "backend_name = \"ibm_kyiv\"\n",
    "backend = QiskitRuntimeService(\n",
    "    channel=\"ibm_quantum\",\n",
    "    token=\"c0ed0f977fc96d511605341385f656a6f645fad36841935e8607da73c66b88d94fc4f0039f31fcb5deb38050ed690e95d6bdef43a2601351aff0d547a0da5af8\"\n",
    ").backend(backend_name)"
   ]
  },
  {
   "cell_type": "code",
   "execution_count": 32,
   "id": "f3382f30",
   "metadata": {},
   "outputs": [],
   "source": [
    "class QiskitPassProfiler:\n",
    "    def __init__(self):\n",
    "        self.pass_timings = collections.defaultdict(list)\n",
    "        \n",
    "    def note_pass_timing(self, pass_, dag, time, property_set, count) -> None:\n",
    "        self.pass_timings[pass_.name()].append(time)\n",
    "    \n",
    "profiler = QiskitPassProfiler()\n",
    "staged_pass_manager = qiskit.transpiler.preset_passmanagers.generate_preset_pass_manager(3, backend, layout_method=\"sabre\", routing_method=\"sabre\")\n",
    "# stages = [\"init\", \"layout\", \"routing\", \"translation\", \"optimization\", \"scheduling\"]\n",
    "\n",
    "circuits = get_cdr_circuits()\n",
    "\n",
    "# for stage in stages:\n",
    "#     pre_stage_pass_manager = getattr(staged_pass_manager, f\"pre_{stage}\")\n",
    "#     stage_pass_manager = getattr(staged_pass_manager, stage)\n",
    "#     post_stage_pass_manager = getattr(staged_pass_manager, f\"post_{stage}\")\n",
    "    \n",
    "#     for pass_manager in [pre_stage_pass_manager, stage_pass_manager, post_stage_pass_manager]:\n",
    "#         if pass_manager is not None:\n",
    "#             print(pass_manager._tasks)\n",
    "\n",
    "compiled_circuits = staged_pass_manager.run(circuits, callback=profiler.note_pass_timing, num_processes=1)"
   ]
  },
  {
   "cell_type": "code",
   "execution_count": 34,
   "id": "320dd63f",
   "metadata": {},
   "outputs": [
    {
     "name": "stdout",
     "output_type": "stream",
     "text": [
      "7.782702445983887\n"
     ]
    }
   ],
   "source": [
    "pass_latencies = {key: sum(value) for key, value in profiler.pass_timings.items()}\n",
    "\n",
    "print(sum([item for item in pass_latencies.values()]))"
   ]
  },
  {
   "cell_type": "code",
   "execution_count": 100,
   "id": "13188d85",
   "metadata": {},
   "outputs": [],
   "source": [
    "def get_cnot_layer_indices(\n",
    "    connectivity: dict[list[int]],\n",
    "    qubits: list[int],\n",
    "    max_cnots: int,\n",
    ") -> np.ndarray:\n",
    "    selected_cnot_indices = []\n",
    "    visited = set()\n",
    "    \n",
    "    qubits_shuffled = np.random.permutation(qubits)\n",
    "    qubits_set = set(qubits)\n",
    "    \n",
    "    for qubit in qubits_shuffled:\n",
    "        if qubit in visited:\n",
    "            continue\n",
    "            \n",
    "        for adj_qubit in connectivity[qubit]:\n",
    "            if (adj_qubit not in visited) and (adj_qubit in qubits_set):\n",
    "                visited.add(adj_qubit)\n",
    "                selected_cnot_indices.append([qubit, adj_qubit])\n",
    "                break\n",
    "                \n",
    "        visited.add(qubit)\n",
    "        \n",
    "        if len(selected_cnot_indices) == max_cnots:\n",
    "            break         \n",
    "\n",
    "    return np.array(selected_cnot_indices).reshape(-1, 2)\n",
    "\n",
    "\n",
    "def add_local_pauli_measurements(\n",
    "    circuit: qiskit.QuantumCircuit,\n",
    "    num_qubits: int,\n",
    ") -> qiskit.QuantumCircuit:\n",
    "    pauli_measurement_basis_shifts = [\n",
    "        [qiskit.circuit.library.IGate(), qiskit.circuit.library.IGate()],\n",
    "        [qiskit.circuit.library.HGate(), qiskit.circuit.library.IGate()],\n",
    "        [qiskit.circuit.library.SdgGate(), qiskit.circuit.library.HGate()],\n",
    "    ]\n",
    "    \n",
    "    chosen_pauli_measurement_basis = np.random.randint(0, 3)\n",
    "    \n",
    "    for qubit in range(num_qubits):\n",
    "        circuit.append(pauli_measurement_basis_shifts[chosen_pauli_measurement_basis][0], [qubit])\n",
    "        circuit.append(pauli_measurement_basis_shifts[chosen_pauli_measurement_basis][1], [qubit])\n",
    "        \n",
    "    circuit.measure_all()\n",
    "    \n",
    "    return circuit"
   ]
  },
  {
   "cell_type": "markdown",
   "id": "44e2efb9",
   "metadata": {},
   "source": [
    "## Benchmark circuits"
   ]
  },
  {
   "cell_type": "markdown",
   "id": "dd9e3d83",
   "metadata": {},
   "source": [
    "### Clifford Data Regression"
   ]
  },
  {
   "cell_type": "code",
   "execution_count": 34,
   "id": "8346591a",
   "metadata": {},
   "outputs": [],
   "source": [
    "def get_cdr_circuits() -> list[qiskit.QuantumCircuit]:\n",
    "    num_qubits = 16\n",
    "    num_clifford_circuits = 100\n",
    "    circuits = []\n",
    "\n",
    "    for _ in range(num_clifford_circuits):\n",
    "        circuit = qiskit.QuantumCircuit(num_qubits)\n",
    "\n",
    "        for i in range(num_qubits):\n",
    "            circuit.h(i)\n",
    "    \n",
    "        for layer in range(2):\n",
    "            for i in range(num_qubits - 1):\n",
    "                circuit.cx(i, i + 1)\n",
    "\n",
    "                for power in range(np.random.randint(4)):\n",
    "                    circuit.s(i + 1)\n",
    "\n",
    "                circuit.cx(i, i + 1)\n",
    "\n",
    "            for i in range(num_qubits):\n",
    "                circuit.s(i)\n",
    "                circuit.sx(i)\n",
    "\n",
    "                for power in range(np.random.randint(4)):\n",
    "                    circuit.s(i)\n",
    "\n",
    "                circuit.sx(i)\n",
    "                circuit.s(i)\n",
    "\n",
    "        circuit.measure_all()\n",
    "        circuits.append(circuit)\n",
    "        \n",
    "    return circuits"
   ]
  },
  {
   "cell_type": "markdown",
   "id": "612f723c",
   "metadata": {},
   "source": [
    "### Zero Noise Extrapolation"
   ]
  },
  {
   "cell_type": "code",
   "execution_count": 19,
   "id": "624aa4d2",
   "metadata": {},
   "outputs": [],
   "source": [
    "def get_zne_circuits() -> list[qiskit.QuantumCircuit]:\n",
    "    num_circuits = 9\n",
    "    num_qubits = 21\n",
    "    circuits = []\n",
    "    \n",
    "    for circuit_index in range(num_circuits):\n",
    "        circuit = qiskit.QuantumCircuit(num_qubits)\n",
    "        \n",
    "        circuit.h(range(num_qubits))\n",
    "        \n",
    "        for repetition in range(circuit_index):\n",
    "            circuit.h(range(num_qubits))\n",
    "            circuit.h(range(num_qubits))\n",
    "            \n",
    "        for qubit in range(num_qubits - 1):\n",
    "            circuit.cx(qubit, qubit + 1)\n",
    "            \n",
    "            for repetition in range(circuit_index):\n",
    "                circuit.cx(qubit, qubit + 1)\n",
    "                circuit.cx(qubit, qubit + 1)\n",
    "                \n",
    "        circuit.measure_all()\n",
    "        circuits.append(circuit)\n",
    "        \n",
    "    return circuits"
   ]
  },
  {
   "cell_type": "markdown",
   "id": "e7ec0d0a",
   "metadata": {},
   "source": [
    "### Probabilistic Error Cancellation"
   ]
  },
  {
   "cell_type": "code",
   "execution_count": 20,
   "id": "ab0ccf64",
   "metadata": {},
   "outputs": [],
   "source": [
    "def sample_and_append_operation(\n",
    "    circuit: qiskit.QuantumCircuit,\n",
    "    gate_choices: list[qiskit.circuit.singleton.SingletonGate],\n",
    "    gate_probs: list[float],\n",
    "    targets: list[int]\n",
    "):\n",
    "    sampled_operation = gate_choices[np.random.choice(len(gate_choices), p=gate_probs)]\n",
    "    \n",
    "    for op in sampled_operation:\n",
    "        circuit.append(op, targets)\n",
    "        \n",
    "    return circuit\n",
    "    \n",
    "\n",
    "def get_pec_circuits() -> list[qiskit.QuantumCircuit]:\n",
    "    num_circuits = 250\n",
    "    num_layers = 8\n",
    "    num_qubits = 8\n",
    "    beta_values = [0.21, 0.24, 0.13, 0.1, 0.8, 0.1, 0.23, 0.5]\n",
    "    gamma_values = [0.1, 0.2, 0.1, 0.13, 0.5, 0.6, 0.3, 0.5]\n",
    "    sx_gate_probs = [0.97, 0.01, 0.01, 0.01]\n",
    "    sx_gate_choices = [\n",
    "        [qiskit.circuit.library.SXGate()],\n",
    "        [qiskit.circuit.library.XGate()],\n",
    "        [qiskit.circuit.library.ZGate()],\n",
    "        [qiskit.circuit.library.XGate(), qiskit.circuit.library.XGate()],\n",
    "    ]\n",
    "    \n",
    "    \n",
    "    cnot_gate_probs = [0.92, 0.04, 0.04]\n",
    "    cnot_gate_choices = [\n",
    "        [qiskit.circuit.library.CXGate()],\n",
    "        [qiskit.circuit.library.CZGate()],\n",
    "        [qiskit.circuit.library.CYGate()],       \n",
    "    ]\n",
    "    \n",
    "    \n",
    "    circuits = []\n",
    "    \n",
    "    for circuit_index in range(num_circuits):\n",
    "        circuit = qiskit.QuantumCircuit(num_qubits)\n",
    "        \n",
    "        circuit.h(range(num_qubits))\n",
    "        \n",
    "        for layer in range(num_layers):\n",
    "            for qubit in range(num_qubits):\n",
    "                circuit.s(qubit)\n",
    "                sample_and_append_operation(circuit, sx_gate_choices, sx_gate_probs, [qubit])\n",
    "                circuit.rz(beta_values[layer], qubit)\n",
    "                sample_and_append_operation(circuit, sx_gate_choices, sx_gate_probs, [qubit])\n",
    "                circuit.s(qubit)\n",
    "                \n",
    "            for qubit in range(num_qubits - 1):\n",
    "                sample_and_append_operation(circuit, cnot_gate_choices, cnot_gate_probs, [qubit, qubit + 1])\n",
    "                circuit.rz(gamma_values[layer], qubit + 1)\n",
    "                sample_and_append_operation(circuit, cnot_gate_choices, cnot_gate_probs, [qubit, qubit + 1])\n",
    "                \n",
    "        circuit.measure_all()\n",
    "        circuits.append(circuit)\n",
    "        \n",
    "    return circuits"
   ]
  },
  {
   "cell_type": "markdown",
   "id": "301e752b",
   "metadata": {},
   "source": [
    "### JigSaw"
   ]
  },
  {
   "cell_type": "code",
   "execution_count": 21,
   "id": "4a360a82",
   "metadata": {},
   "outputs": [],
   "source": [
    "def get_jigsaw_circuits() -> list[qiskit.QuantumCircuit]:\n",
    "    num_qubits = 13\n",
    "    num_meas_qubits = 2\n",
    "    secret_key = [1, 0, 1, 0, 1, 1, 1, 0, 1, 0, 0, 1]\n",
    "    num_circuits = 32\n",
    "    \n",
    "    jigsaw_circuits = []\n",
    "    measurement_indices = np.random.randint(0, 12, (num_circuits, 2))\n",
    "    \n",
    "    for circuit_index in range(num_circuits):\n",
    "        circuit = qiskit.QuantumCircuit(num_qubits, 2)\n",
    "        \n",
    "        circuit.x(12)\n",
    "        \n",
    "        for qubit in range(13):\n",
    "            circuit.h(qubit)\n",
    "            \n",
    "        for qubit in range(12):\n",
    "            if secret_key[qubit]:\n",
    "                circuit.cx(qubit, 12)\n",
    "                \n",
    "        for qubit in range(13):\n",
    "            circuit.h(qubit)\n",
    "            \n",
    "        circuit.measure(measurement_indices[circuit_index][0], 0)\n",
    "        circuit.measure(measurement_indices[circuit_index][1], 1)\n",
    "        \n",
    "        jigsaw_circuits.append(circuit)\n",
    "            \n",
    "    return jigsaw_circuits"
   ]
  },
  {
   "cell_type": "markdown",
   "id": "44e82845",
   "metadata": {},
   "source": [
    "### Randomized Compilation"
   ]
  },
  {
   "cell_type": "code",
   "execution_count": 22,
   "id": "fe129270",
   "metadata": {},
   "outputs": [],
   "source": [
    "def add_hard_cycle(\n",
    "    circuit: qiskit.QuantumCircuit,\n",
    "    cnot_pairs: list[tuple[int, int]],\n",
    "    num_qubits: int,\n",
    ") -> qiskit.QuantumCircuit:\n",
    "    i = qiskit.circuit.library.IGate()\n",
    "    x = qiskit.circuit.library.XGate()\n",
    "    y = qiskit.circuit.library.YGate()\n",
    "    z = qiskit.circuit.library.ZGate()\n",
    "    \n",
    "    pauli_left_frames = [\n",
    "        [i, i], [i, x], [i, y], [i, z],\n",
    "        [x, i], [x, x], [x, y], [x, z],\n",
    "        [y, i], [y, x], [y, y], [y, z],\n",
    "        [z, i], [z, x], [z, y], [z, z],\n",
    "    ]\n",
    "    \n",
    "    pauli_right_frames = [\n",
    "        [i, i], [i, x], [z, y], [z, z],\n",
    "        [x, x], [x, i], [y, z], [y, y],\n",
    "        [y, x], [y, i], [x, z], [x, y],\n",
    "        [z, i], [z, x], [i, y], [i, z],\n",
    "    ]\n",
    "\n",
    "    pauli_frame_indices = np.random.randint(0, 16, (len(cnot_pairs), ))\n",
    "    pauli_frame_indices_trivial = np.random.randint(0, 16, ((num_qubits + 1) // 2, ))\n",
    "    flattened_cnot_qubits = [qubit for cnot_pair in cnot_pairs for qubit in cnot_pair]\n",
    "\n",
    "    for qubit in range(num_qubits):\n",
    "        if qubit not in flattened_cnot_qubits:\n",
    "            circuit.append(pauli_left_frames[pauli_frame_indices_trivial[qubit // 2]][qubit % 2], [qubit])\n",
    "    \n",
    "    for pair_index, cnot_pair in enumerate(cnot_pairs):\n",
    "        circuit.append(pauli_left_frames[pauli_frame_indices[pair_index]][0], [cnot_pair[0]])\n",
    "        circuit.append(pauli_left_frames[pauli_frame_indices[pair_index]][1], [cnot_pair[1]])\n",
    "        circuit.cx(cnot_pair[0], cnot_pair[1])\n",
    "        circuit.append(pauli_right_frames[pauli_frame_indices[pair_index]][0],[cnot_pair[0]])\n",
    "        circuit.append(pauli_right_frames[pauli_frame_indices[pair_index]][1], [cnot_pair[1]])\n",
    "        \n",
    "    for qubit in range(num_qubits):\n",
    "        if qubit not in flattened_cnot_qubits:\n",
    "            circuit.append(pauli_left_frames[pauli_frame_indices_trivial[qubit // 2]][qubit % 2], [qubit])\n",
    "            \n",
    "    return circuit\n",
    "\n",
    "    \n",
    "def get_rc_circuits() -> list[qiskit.QuantumCircuit]:\n",
    "    num_qubits = 4\n",
    "    num_circuits = 1024\n",
    "    circuits = []\n",
    "    \n",
    "    for circuit_index in range(num_circuits):\n",
    "        circuit = qiskit.QuantumCircuit(num_qubits)\n",
    "\n",
    "        circuit.h(range(num_qubits))\n",
    "  \n",
    "        circuit.rz(np.pi / 4, 1)\n",
    "        circuit.rz(np.pi / 8, 2)\n",
    "        circuit.rz(np.pi / 8, 3)\n",
    "        \n",
    "        add_hard_cycle(circuit, [(1, 0)], num_qubits)\n",
    "        \n",
    "        circuit.rz(-np.pi / 4, 0)\n",
    "        \n",
    "        add_hard_cycle(circuit, [(1, 0)], num_qubits)\n",
    "        \n",
    "        circuit.rz(np.pi / 4, 0)\n",
    "        \n",
    "        add_hard_cycle(circuit, [(2, 0)], num_qubits)\n",
    "        \n",
    "        circuit.rz(-np.pi / 8, 0)\n",
    "        \n",
    "        add_hard_cycle(circuit, [(2, 0)], num_qubits)\n",
    "        \n",
    "        circuit.rz(np.pi / 8, 0)\n",
    "        circuit.rz(np.pi / 4, 2)\n",
    "        \n",
    "        add_hard_cycle(circuit, [(3, 0), (2, 1)], num_qubits)\n",
    "        \n",
    "        circuit.rz(-np.pi / 16, 0)\n",
    "        circuit.rz(-np.pi / 4, 1)\n",
    "        \n",
    "        add_hard_cycle(circuit, [(3, 0), (2, 1)], num_qubits)\n",
    "        \n",
    "        circuit.rz(np.pi / 16, 0)\n",
    "        circuit.rz(np.pi / 4, 1)\n",
    "        circuit.rz(np.pi / 8, 3)\n",
    "        \n",
    "        add_hard_cycle(circuit, [(3, 1)], num_qubits)\n",
    "        \n",
    "        circuit.rz(-np.pi / 8, 1)\n",
    "        \n",
    "        add_hard_cycle(circuit, [(3, 1)], num_qubits)\n",
    "        \n",
    "        circuit.rz(np.pi / 8, 1)\n",
    "        circuit.rz(np.pi / 4, 3)\n",
    "        \n",
    "        add_hard_cycle(circuit, [(3, 2)], num_qubits)\n",
    "        \n",
    "        circuit.rz(-np.pi / 4, 2)\n",
    "        \n",
    "        add_hard_cycle(circuit, [(3, 2)], num_qubits)\n",
    "        \n",
    "        circuit.rz(np.pi / 4, 2)\n",
    "        \n",
    "        add_hard_cycle(circuit, [(3, 0), (2, 1)], num_qubits)\n",
    "        add_hard_cycle(circuit, [(0, 3), (1, 2)], num_qubits)\n",
    "        add_hard_cycle(circuit, [(3, 0), (2, 1)], num_qubits)\n",
    "        \n",
    "        circuit.measure_all()\n",
    "        circuits.append(circuit)\n",
    "        \n",
    "    return circuits"
   ]
  },
  {
   "cell_type": "markdown",
   "id": "f7f86e74",
   "metadata": {},
   "source": [
    "### Cycle Benchmarking"
   ]
  },
  {
   "cell_type": "code",
   "execution_count": 23,
   "id": "8d3f6119",
   "metadata": {},
   "outputs": [],
   "source": [
    "def get_cycle_benchmarking_circuits() -> list[qiskit.QuantumCircuit]:\n",
    "    num_qubits = 6\n",
    "    pauli_cycle = [0, 1, 0, 1, 0, 1]\n",
    "    num_pauli_randomizations = 64\n",
    "    cycle_repetitions = [4, 8, 12]\n",
    "    num_circuits_per_initial_state = 30\n",
    "    num_circuits = 1920\n",
    "    circuits = []\n",
    "    \n",
    "    x = qiskit.circuit.library.XGate()\n",
    "    y = qiskit.circuit.library.YGate()\n",
    "    z = qiskit.circuit.library.ZGate()\n",
    "    \n",
    "    pauli_gates = [x, y, z]\n",
    "    edge_randomization_gates = [[y, y, x], [x, x, y], [x, y, z]]\n",
    "    state_prep_gates = None\n",
    "    \n",
    "    for circuit_index in range(num_circuits):\n",
    "        circuit_cycle_repetitions = cycle_repetitions[circuit_index % len(cycle_repetitions)]\n",
    "        \n",
    "        if not (circuit_index % num_circuits_per_initial_state):\n",
    "            state_prep_gate_indices = np.random.randint(0, 3, (num_qubits,))\n",
    "            \n",
    "        frame_randomization_gate_indices = np.random.randint(\n",
    "            0, 3, (circuit_cycle_repetitions + 1, num_qubits)\n",
    "        )\n",
    "        \n",
    "        circuit = qiskit.QuantumCircuit(num_qubits)\n",
    "        \n",
    "        for qubit in range(num_qubits):\n",
    "            circuit.append(\n",
    "                edge_randomization_gates[state_prep_gate_indices[qubit]][\n",
    "                    frame_randomization_gate_indices[0][qubit]\n",
    "                ],\n",
    "                [qubit],\n",
    "            )\n",
    "            \n",
    "        for rep_index in range(1, circuit_cycle_repetitions):\n",
    "            for qubit in range(num_qubits):\n",
    "                circuit.append(pauli_gates[pauli_cycle[qubit]], [qubit])\n",
    "                circuit.append(\n",
    "                    pauli_gates[frame_randomization_gate_indices[rep_index][qubit]],\n",
    "                    [qubit]\n",
    "                )\n",
    "                \n",
    "        for qubit in range(num_qubits):\n",
    "            circuit.append(pauli_gates[pauli_cycle[qubit]], [qubit])\n",
    "            circuit.append(\n",
    "                edge_randomization_gates[state_prep_gate_indices[qubit]][\n",
    "                    frame_randomization_gate_indices[circuit_cycle_repetitions][qubit]\n",
    "                ],\n",
    "                [qubit],\n",
    "            )\n",
    "            \n",
    "        circuit.measure_all()\n",
    "        circuits.append(circuit)\n",
    "        \n",
    "    return circuits"
   ]
  },
  {
   "cell_type": "markdown",
   "id": "9a179808",
   "metadata": {},
   "source": [
    "### ACES"
   ]
  },
  {
   "cell_type": "code",
   "execution_count": 24,
   "id": "1772abfe",
   "metadata": {},
   "outputs": [],
   "source": [
    "def add_dressed_aces_layer(\n",
    "    circuit: qiskit.QuantumCircuit,\n",
    "    cnot_indices: list[tuple[int, int]],\n",
    "    hadamard_indices: list[int],\n",
    "    s_indices: list[int],\n",
    ") -> qiskit.QuantumCircuit:\n",
    "    i = qiskit.circuit.library.IGate()\n",
    "    x = qiskit.circuit.library.XGate()\n",
    "    y = qiskit.circuit.library.YGate()\n",
    "    z = qiskit.circuit.library.ZGate()\n",
    "\n",
    "    cnot_pauli_left_frames = [\n",
    "        [i, i], [i, x], [i, y], [i, z],\n",
    "        [x, i], [x, x], [x, y], [x, z],\n",
    "        [y, i], [y, x], [y, y], [y, z],\n",
    "        [z, i], [z, x], [z, y], [z, z],\n",
    "    ]\n",
    "    \n",
    "    cnot_pauli_right_frames = [\n",
    "        [i, i], [i, x], [z, y], [z, z],\n",
    "        [x, x], [x, i], [y, z], [y, y],\n",
    "        [y, x], [y, i], [x, z], [x, y],\n",
    "        [z, i], [z, x], [i, y], [i, z],\n",
    "    ]\n",
    "    \n",
    "    hadamard_pauli_left_frames = [i, x, y, z]\n",
    "    hadamard_pauli_right_frames = [i, y, x, z]\n",
    "    s_pauli_left_frames = [i, x, y, z]\n",
    "    s_pauli_right_frames = [i, z, y, x]\n",
    "    \n",
    "    cnot_pauli_indices = np.random.randint(0, 16, (len(cnot_indices),))\n",
    "    hadamard_pauli_indices = np.random.randint(0, 4, (len(hadamard_indices),))\n",
    "    s_pauli_indices = np.random.randint(0, 4, (len(s_indices),))\n",
    "    \n",
    "    for cnot_index, cnot_pair in enumerate(cnot_indices):\n",
    "        control, target = cnot_pair\n",
    "\n",
    "        circuit.append(cnot_pauli_left_frames[cnot_pauli_indices[cnot_index]][0], [control])\n",
    "        circuit.append(cnot_pauli_left_frames[cnot_pauli_indices[cnot_index]][1], [target])\n",
    "        \n",
    "        circuit.cx(control, target)\n",
    "        \n",
    "        circuit.append(cnot_pauli_right_frames[cnot_pauli_indices[cnot_index]][0], [control])\n",
    "        circuit.append(cnot_pauli_right_frames[cnot_pauli_indices[cnot_index]][1], [target])\n",
    "        \n",
    "    for qubit_index, qubit in enumerate(hadamard_indices):\n",
    "        circuit.append(hadamard_pauli_left_frames[hadamard_pauli_indices[qubit_index]], [qubit])\n",
    "        circuit.h(qubit)\n",
    "        circuit.append(hadamard_pauli_right_frames[hadamard_pauli_indices[qubit_index]], [qubit])\n",
    "        \n",
    "    for qubit_index, qubit in enumerate(s_indices):\n",
    "        circuit.append(s_pauli_left_frames[s_pauli_indices[qubit_index]], [qubit])\n",
    "        circuit.s(qubit)\n",
    "        circuit.append(s_pauli_right_frames[s_pauli_indices[qubit_index]], [qubit])\n",
    "        \n",
    "    return circuit\n",
    "    \n",
    "\n",
    "def get_aces_circuits(backend: IBMBackend) -> list[qiskit.QuantumCircuit]:\n",
    "    num_qubits = 5\n",
    "    num_base_circuits = 20\n",
    "    num_randomizations_per_circuit = 10\n",
    "    min_depth = 2\n",
    "    max_depth = 10\n",
    "    num_circuits = num_base_circuits * num_randomizations_per_circuit\n",
    "    circuits = []\n",
    "    \n",
    "    connectivity = collections.defaultdict(list)\n",
    "    \n",
    "    for edge in backend.coupling_map:\n",
    "        connectivity[edge[0]].append(edge[1])\n",
    "        connectivity[edge[1]].append(edge[0])\n",
    "    \n",
    "    depth = 0\n",
    "    cnot_indices = []\n",
    "    hadamard_indices = []\n",
    "    s_indices = []\n",
    "    \n",
    "    for circuit_index in range(num_circuits):\n",
    "        circuit = qiskit.QuantumCircuit(num_qubits)\n",
    "        \n",
    "        if not (circuit_index % num_randomizations_per_circuit):\n",
    "            depth = np.random.randint(min_depth, max_depth + 1)\n",
    "            cnot_indices = []\n",
    "            hadamard_indices = []\n",
    "            s_indices = []\n",
    "        \n",
    "            for layer in range(depth):\n",
    "                max_num_cnots = np.random.randint(0, num_qubits // 2 + 1)\n",
    "                cnot_indices.append(get_cnot_layer_indices(connectivity, range(num_qubits), max_num_cnots))\n",
    "\n",
    "                num_hadamards = np.random.randint(0, num_qubits - (2 * len(cnot_indices[-1])) + 1)\n",
    "                hadamard_probs = np.ones((num_qubits,))\n",
    "                hadamard_probs[[qubit for cnot_pair in cnot_indices[-1] for qubit in cnot_pair]] = 0.0\n",
    "                hadamard_probs /= np.sum(hadamard_probs)\n",
    "                hadamard_indices.append(list(np.random.choice(num_qubits, num_hadamards, p=hadamard_probs)))\n",
    "\n",
    "                hadamard_probs[hadamard_indices[-1]] = 0\n",
    "                s_indices.append(list(np.argwhere(hadamard_probs).flatten()))\n",
    "\n",
    "        for layer in range(depth):\n",
    "            add_dressed_aces_layer(circuit, cnot_indices[layer], hadamard_indices[layer], s_indices[layer])\n",
    "            \n",
    "        circuit.measure_all()\n",
    "        circuits.append(circuit)\n",
    "        \n",
    "    return circuits"
   ]
  },
  {
   "cell_type": "markdown",
   "id": "8bfbd730",
   "metadata": {},
   "source": [
    "### RCS with mirror circuits"
   ]
  },
  {
   "cell_type": "code",
   "execution_count": 53,
   "id": "ac89b736",
   "metadata": {},
   "outputs": [],
   "source": [
    "def get_rcs_mirror_circuits(backend: IBMBackend) -> list[qiskit.QuantumCircuit]:\n",
    "    num_circuits = 640\n",
    "    depths = [2 * i for i in range(1, 21)]\n",
    "    num_qubits = 5\n",
    "    num_circuits_per_depth = 32\n",
    "    circuits = []\n",
    " \n",
    "    i = qiskit.circuit.library.IGate()\n",
    "    x = qiskit.circuit.library.XGate()\n",
    "    y = qiskit.circuit.library.YGate()\n",
    "    z = qiskit.circuit.library.ZGate()\n",
    "    h = qiskit.circuit.library.HGate()\n",
    "    \n",
    "    pauli_gates = [i, x, y, z]\n",
    "    clifford_gates = [x, y, z, h]\n",
    "    \n",
    "    connectivity = collections.defaultdict(list)\n",
    "    \n",
    "    for edge in backend.coupling_map:\n",
    "        connectivity[edge[0]].append(edge[1])\n",
    "        connectivity[edge[1]].append(edge[0])\n",
    "    \n",
    "    for circuit_index in range(num_circuits):\n",
    "        circuit_depth = depths[circuit_index // num_circuits_per_depth]\n",
    "        num_cnots = np.random.randint(0, (num_qubits // 2) + 1, (circuit_depth // 2,))\n",
    "        pauli_indices = np.random.randint(0, 4, (circuit_depth + 1, num_qubits))\n",
    "        clifford_indices = np.random.randint(0, 4, (circuit_depth // 2, num_qubits))\n",
    "        initial_clifford_indices = np.random.randint(0, 4, (num_qubits,))\n",
    "        \n",
    "        circuit = qiskit.QuantumCircuit(num_qubits)\n",
    "        \n",
    "        cnot_layer_indices = [\n",
    "            get_cnot_layer_indices(\n",
    "                connectivity,\n",
    "                range(num_qubits),\n",
    "                num_cnots_in_layer,\n",
    "            ).flatten()\n",
    "            for num_cnots_in_layer in num_cnots\n",
    "        ]\n",
    "\n",
    "        for qubit in range(num_qubits):\n",
    "            circuit.append(clifford_gates[initial_clifford_indices[qubit]], [qubit])\n",
    "            circuit.append(pauli_gates[pauli_indices[0, qubit]], [qubit])\n",
    "        \n",
    "        for layer in range(circuit_depth // 2):\n",
    "            for cnot_index in range(cnot_layer_indices[layer].shape[0] // 2):\n",
    "                circuit.cx(\n",
    "                    cnot_layer_indices[layer][2 * cnot_index],\n",
    "                    cnot_layer_indices[layer][2 * cnot_index + 1]\n",
    "                )\n",
    "                \n",
    "            for qubit in range(num_qubits):\n",
    "                if qubit not in cnot_layer_indices[layer]:\n",
    "                    circuit.append(clifford_gates[clifford_indices[layer, qubit]], [qubit])\n",
    "                \n",
    "                circuit.append(pauli_gates[pauli_indices[layer + 1, qubit]], [qubit])\n",
    "            \n",
    "        for inv_layer in range(circuit_depth // 2 - 1, -1, -1):\n",
    "            for cnot_index in range(cnot_layer_indices[inv_layer].shape[0] // 2):\n",
    "                circuit.cx(\n",
    "                    cnot_layer_indices[inv_layer][2 * cnot_index],\n",
    "                    cnot_layer_indices[inv_layer][2 * cnot_index + 1]\n",
    "                )\n",
    "                \n",
    "            for qubit in range(num_qubits):\n",
    "                if qubit not in cnot_layer_indices[inv_layer]:\n",
    "                    circuit.append(clifford_gates[clifford_indices[inv_layer, qubit]], [qubit])\n",
    "            \n",
    "                circuit.append(pauli_gates[pauli_indices[circuit_depth - inv_layer, qubit]], [qubit])\n",
    "            \n",
    "        for qubit in range(num_qubits):\n",
    "            circuit.append(clifford_gates[initial_clifford_indices[qubit]], [qubit])\n",
    "            \n",
    "        circuit.measure_all()\n",
    "        circuits.append(circuit)\n",
    "        \n",
    "    return circuits"
   ]
  },
  {
   "cell_type": "markdown",
   "id": "f233dd0b",
   "metadata": {},
   "source": [
    "### Quantum Volume"
   ]
  },
  {
   "cell_type": "code",
   "execution_count": 76,
   "id": "aecd538d",
   "metadata": {},
   "outputs": [],
   "source": [
    "def get_quantum_volume_circuits(backend: IBMBackend) -> list[qiskit.QuantumCircuit]:\n",
    "    circuits = []\n",
    "    min_qubits = 2\n",
    "    max_qubits = 6\n",
    "    circuits_per_size = 100\n",
    "    \n",
    "    for num_qubits in range(min_qubits, max_qubits + 1):\n",
    "        for circuit_index in range(circuits_per_size):\n",
    "            circuits.append(\n",
    "                qiskit.circuit.library.QuantumVolume(\n",
    "                    num_qubits,\n",
    "                    seed=(num_qubits * circuits_per_size) + circuit_index,\n",
    "                    flatten=True,\n",
    "                ).decompose(),\n",
    "            )\n",
    "            \n",
    "    return circuits"
   ]
  },
  {
   "cell_type": "markdown",
   "id": "693e140c",
   "metadata": {},
   "source": [
    "### CLOPS_h"
   ]
  },
  {
   "cell_type": "code",
   "execution_count": 96,
   "id": "67b4cb6a",
   "metadata": {},
   "outputs": [],
   "source": [
    "def get_clops_circuits(backend: IBMBackend) -> list[qiskit.QuantumCircuit]:\n",
    "    num_circuits = 100\n",
    "    num_parameterizations_per_circuit = 10\n",
    "    num_qubits = backend.num_qubits\n",
    "    num_layers = num_qubits\n",
    "    \n",
    "    connectivity = collections.defaultdict(list)\n",
    "    \n",
    "    for edge in backend.coupling_map:\n",
    "        connectivity[edge[0]].append(edge[1])\n",
    "        connectivity[edge[1]].append(edge[0])\n",
    "    \n",
    "    circuits = []\n",
    "\n",
    "    for circuit_index in range(num_circuits // num_parameterizations_per_circuit):\n",
    "        ecr_indices = [\n",
    "            get_cnot_layer_indices(connectivity, range(num_qubits), num_qubits // 2).flatten()\n",
    "            for i in range(num_layers)\n",
    "        ]\n",
    "        \n",
    "        for parameter_index in range(num_parameterizations_per_circuit):\n",
    "            circuit = qiskit.QuantumCircuit(num_qubits)\n",
    "            rz_angles = 2 * np.pi * np.random.sample((num_layers, num_qubits, ))\n",
    "            \n",
    "            for layer in range(num_layers):\n",
    "                for cnot_index in range(len(ecr_indices[layer]) // 2):\n",
    "                    circuit.ecr(\n",
    "                        ecr_indices[layer][2 * cnot_index],\n",
    "                        ecr_indices[layer][2 * cnot_index + 1]\n",
    "                    )\n",
    "                    \n",
    "                for qubit in range(num_qubits):\n",
    "                    circuit.sx(qubit)\n",
    "                    circuit.x(qubit)\n",
    "                    circuit.rz(rz_angles[layer, qubit], qubit)\n",
    "                    \n",
    "            circuits.append(circuit)\n",
    "            \n",
    "    return circuits"
   ]
  },
  {
   "cell_type": "markdown",
   "id": "3f28db06",
   "metadata": {},
   "source": [
    "### Characterizing topological order"
   ]
  },
  {
   "cell_type": "code",
   "execution_count": null,
   "id": "ee76e09e",
   "metadata": {},
   "outputs": [],
   "source": [
    "def get_characterizing_topological_order_circuits(backend: IBMBackend) -> list[qiskit.QuantumCircuit]:\n",
    "    pass"
   ]
  },
  {
   "cell_type": "code",
   "execution_count": null,
   "id": "4970961f",
   "metadata": {},
   "outputs": [],
   "source": []
  },
  {
   "cell_type": "markdown",
   "id": "791c30b7",
   "metadata": {},
   "source": [
    "### Fidelity estimation"
   ]
  },
  {
   "cell_type": "code",
   "execution_count": null,
   "id": "8b3dea7b",
   "metadata": {},
   "outputs": [],
   "source": []
  },
  {
   "cell_type": "markdown",
   "id": "713e79ce",
   "metadata": {},
   "source": [
    "### Hamiltonian energy estimation"
   ]
  },
  {
   "cell_type": "code",
   "execution_count": null,
   "id": "9e3c5676",
   "metadata": {},
   "outputs": [],
   "source": []
  },
  {
   "cell_type": "markdown",
   "id": "962848d0",
   "metadata": {},
   "source": [
    "### Quantum process tomography"
   ]
  },
  {
   "cell_type": "code",
   "execution_count": null,
   "id": "5089636f",
   "metadata": {},
   "outputs": [],
   "source": []
  },
  {
   "cell_type": "markdown",
   "id": "d61e0d81",
   "metadata": {},
   "source": [
    "### Entanglement entropy prediction"
   ]
  },
  {
   "cell_type": "code",
   "execution_count": null,
   "id": "49ce4fcc",
   "metadata": {},
   "outputs": [],
   "source": []
  },
  {
   "cell_type": "markdown",
   "id": "faf198d1",
   "metadata": {},
   "source": [
    "### Gate cutting"
   ]
  },
  {
   "cell_type": "code",
   "execution_count": null,
   "id": "b81fa0cf",
   "metadata": {},
   "outputs": [],
   "source": []
  },
  {
   "cell_type": "markdown",
   "id": "34781e28",
   "metadata": {},
   "source": [
    "### Wire cutting"
   ]
  },
  {
   "cell_type": "code",
   "execution_count": null,
   "id": "5b2e5b8f",
   "metadata": {},
   "outputs": [],
   "source": []
  },
  {
   "cell_type": "markdown",
   "id": "46df33b0",
   "metadata": {},
   "source": [
    "### Robust shadow estimation"
   ]
  },
  {
   "cell_type": "code",
   "execution_count": null,
   "id": "aa259094",
   "metadata": {},
   "outputs": [],
   "source": []
  },
  {
   "cell_type": "markdown",
   "id": "3247f172",
   "metadata": {},
   "source": [
    "### Energy estimation + ZNE + RC"
   ]
  },
  {
   "cell_type": "code",
   "execution_count": null,
   "id": "ab6ee732",
   "metadata": {},
   "outputs": [],
   "source": []
  },
  {
   "cell_type": "markdown",
   "id": "52a8289a",
   "metadata": {},
   "source": [
    "### ZNE + CDR"
   ]
  },
  {
   "cell_type": "code",
   "execution_count": null,
   "id": "1cef60c2",
   "metadata": {},
   "outputs": [],
   "source": []
  },
  {
   "cell_type": "code",
   "execution_count": 3,
   "id": "a5b28571",
   "metadata": {},
   "outputs": [
    {
     "name": "stderr",
     "output_type": "stream",
     "text": [
      "\n",
      "KeyboardInterrupt\n",
      "\n"
     ]
    }
   ],
   "source": [
    "backend_name = \"ibm_kyiv\"\n",
    "backend = QiskitRuntimeService(\n",
    "    channel=\"ibm_quantum\",\n",
    "    token=\"c0ed0f977fc96d511605341385f656a6f645fad36841935e8607da73c66b88d94fc4f0039f31fcb5deb38050ed690e95d6bdef43a2601351aff0d547a0da5af8\"\n",
    ").backend(backend_name)\n",
    "\n",
    "cdr_circuits = get_cdr_circuits()\n",
    "compiled_circuits = qiskit.compiler.transpile(cdr_circuits, backend, optimization_level=1)\n",
    "openqasm_circuits = [qiskit.qasm3.dumps(circuit) for circuit in compiled_circuits]"
   ]
  },
  {
   "cell_type": "code",
   "execution_count": 63,
   "id": "d8642a9c",
   "metadata": {},
   "outputs": [
    {
     "data": {
      "text/plain": [
       "(OrderedDict([('rz', 1029),\n",
       "              ('sx', 449),\n",
       "              ('ecr', 129),\n",
       "              ('x', 60),\n",
       "              ('measure', 16),\n",
       "              ('barrier', 1)]),\n",
       " OrderedDict([('s', 148),\n",
       "              ('sx', 64),\n",
       "              ('cx', 60),\n",
       "              ('h', 16),\n",
       "              ('measure', 16),\n",
       "              ('barrier', 1)]))"
      ]
     },
     "execution_count": 63,
     "metadata": {},
     "output_type": "execute_result"
    }
   ],
   "source": [
    "compiled_circuits[0].count_ops(), cdr_circuits[0].count_ops()"
   ]
  },
  {
   "cell_type": "code",
   "execution_count": 65,
   "id": "a524b036",
   "metadata": {},
   "outputs": [
    {
     "data": {
      "text/plain": [
       "(OrderedDict([('rz', 98),\n",
       "              ('sx', 68),\n",
       "              ('ecr', 40),\n",
       "              ('x', 20),\n",
       "              ('measure', 16),\n",
       "              ('barrier', 1)]),\n",
       " OrderedDict([('s', 150),\n",
       "              ('sx', 64),\n",
       "              ('cx', 60),\n",
       "              ('h', 16),\n",
       "              ('measure', 16),\n",
       "              ('barrier', 1)]))"
      ]
     },
     "execution_count": 65,
     "metadata": {},
     "output_type": "execute_result"
    }
   ],
   "source": [
    "compiled_circuits[0].count_ops(), cdr_circuits[0].count_ops()"
   ]
  },
  {
   "cell_type": "code",
   "execution_count": 60,
   "id": "cb1f9e47",
   "metadata": {},
   "outputs": [
    {
     "data": {
      "text/plain": [
       "'OPENQASM 3.0;\\ninclude \"stdgates.inc\";\\ngate rzx(p0) _gate_q_0, _gate_q_1 {\\n  h _gate_q_1;\\n  cx _gate_q_0, _gate_q_1;\\n  rz(p0) _gate_q_1;\\n  cx _gate_q_0, _gate_q_1;\\n  h _gate_q_1;\\n}\\ngate ecr _gate_q_0, _gate_q_1 {\\n  rzx(pi/4) _gate_q_0, _gate_q_1;\\n  x _gate_q_0;\\n  rzx(-pi/4) _gate_q_0, _gate_q_1;\\n}\\nbit[16] meas;\\nx $53;\\nrz(pi/2) $53;\\nx $60;\\nrz(pi/2) $60;\\nx $61;\\nrz(pi/2) $61;\\nsx $62;\\nrz(pi/2) $62;\\nrz(pi/2) $72;\\nsx $72;\\necr $72, $62;\\nx $72;\\nrz(-pi/2) $72;\\nrz(-pi/2) $62;\\nsx $62;\\nrz(-pi) $62;\\necr $72, $62;\\nsx $62;\\nrz(-pi/2) $62;\\necr $61, $62;\\nrz(pi/2) $61;\\nsx $62;\\necr $61, $62;\\nrz(-pi) $61;\\nsx $61;\\necr $60, $61;\\nrz(pi/2) $60;\\nsx $61;\\necr $60, $61;\\nrz(-pi) $60;\\nsx $60;\\necr $53, $60;\\nsx $53;\\nrz(pi/2) $53;\\nsx $60;\\necr $53, $60;\\nrz(pi/2) $53;\\nsx $53;\\nrz(pi/2) $53;\\nx $60;\\nrz(pi/2) $60;\\nrz(-pi) $61;\\nx $61;\\nrz(pi/2) $62;\\nsx $62;\\necr $61, $62;\\nsx $61;\\nrz(pi/2) $61;\\nsx $62;\\necr $61, $62;\\nrz(-pi) $61;\\nsx $61;\\necr $60, $61;\\nrz(pi/2) $60;\\nsx $61;\\necr $60, $61;\\nrz(-pi) $60;\\nsx $60;\\nrz(pi/2) $60;\\nrz(-pi) $61;\\nsx $61;\\nrz(pi/2) $61;\\nrz(-pi) $62;\\nsx $62;\\nrz(pi/2) $62;\\nx $72;\\nsx $95;\\nrz(pi/2) $95;\\nx $96;\\nrz(pi/2) $96;\\nrz(-pi) $97;\\nsx $97;\\necr $96, $97;\\nrz(pi/2) $96;\\nsx $97;\\necr $96, $97;\\nrz(pi/2) $96;\\nsx $96;\\necr $96, $95;\\nx $96;\\nrz(-pi/2) $96;\\nsx $95;\\nrz(-pi) $95;\\necr $96, $95;\\nx $95;\\nx $96;\\nrz(-pi/2) $96;\\necr $96, $95;\\nx $96;\\nrz(-pi/2) $96;\\nrz(pi/2) $95;\\nsx $95;\\nrz(-pi) $95;\\necr $96, $95;\\nsx $95;\\nx $96;\\nx $97;\\nrz(pi/2) $97;\\nx $98;\\nrz(pi/2) $98;\\nrz(-pi) $99;\\nsx $99;\\necr $98, $99;\\nrz(-pi) $98;\\nsx $98;\\nrz(-pi/2) $98;\\nsx $99;\\necr $98, $99;\\nx $98;\\nrz(-pi/2) $99;\\nsx $99;\\nrz(pi/2) $99;\\nx $100;\\nx $110;\\nrz(pi/2) $110;\\nrz(-pi) $115;\\nsx $115;\\nx $116;\\nrz(pi/2) $116;\\necr $116, $115;\\nsx $115;\\nsx $116;\\nrz(pi/2) $116;\\necr $116, $115;\\nrz(pi/2) $115;\\nsx $115;\\nrz(pi/2) $116;\\nsx $116;\\nsx $117;\\nrz(pi/2) $117;\\necr $116, $117;\\nx $116;\\nrz(-pi/2) $116;\\nrz(pi/2) $117;\\nsx $117;\\nrz(-pi) $117;\\necr $116, $117;\\nrz(-pi/2) $117;\\nrz(-pi/2) $116;\\nsx $116;\\nrz(-pi) $116;\\necr $116, $115;\\nsx $115;\\nsx $116;\\nrz(pi/2) $116;\\necr $116, $115;\\nsx $115;\\nrz(pi/2) $115;\\nrz(pi/2) $116;\\nsx $116;\\nsx $118;\\nrz(pi/2) $118;\\necr $117, $118;\\nx $117;\\nrz(-pi/2) $117;\\nrz(pi/2) $118;\\nsx $118;\\nrz(-pi) $118;\\necr $117, $118;\\nrz(-pi) $117;\\nsx $117;\\nrz(-pi) $117;\\necr $116, $117;\\nx $116;\\nrz(-pi/2) $116;\\nrz(pi/2) $117;\\nsx $117;\\nrz(-pi) $117;\\necr $116, $117;\\nrz(-pi/2) $117;\\nx $116;\\nsx $118;\\nrz(-pi/2) $118;\\necr $110, $118;\\nrz(-pi) $110;\\nsx $110;\\nrz(-pi/2) $110;\\nsx $118;\\necr $110, $118;\\nrz(-pi) $110;\\nx $110;\\nrz(pi/2) $118;\\nsx $118;\\nrz(pi/2) $118;\\necr $117, $118;\\nx $117;\\nrz(-pi/2) $117;\\nrz(-pi/2) $118;\\nsx $118;\\nrz(-pi) $118;\\necr $117, $118;\\nsx $117;\\nsx $118;\\nrz(-pi/2) $118;\\necr $110, $118;\\nrz(-pi) $110;\\nsx $110;\\nrz(-pi/2) $110;\\nsx $118;\\necr $110, $118;\\nrz(-pi) $110;\\nsx $110;\\necr $100, $110;\\nsx $100;\\nrz(pi/2) $100;\\nsx $110;\\necr $100, $110;\\nrz(pi/2) $100;\\nsx $100;\\necr $100, $99;\\nx $100;\\nrz(-pi/2) $100;\\nrz(-pi/2) $110;\\nsx $110;\\nrz(pi/2) $110;\\nrz(-pi/2) $118;\\nsx $118;\\nrz(pi/2) $118;\\nsx $99;\\nrz(-pi) $99;\\necr $100, $99;\\nsx $100;\\nsx $99;\\nrz(-pi/2) $99;\\necr $98, $99;\\nsx $98;\\nrz(pi/2) $98;\\nsx $99;\\necr $98, $99;\\nrz(-pi) $98;\\nsx $98;\\necr $97, $98;\\nsx $97;\\nrz(pi/2) $97;\\nsx $98;\\necr $97, $98;\\nrz(-pi/2) $97;\\nsx $97;\\nrz(pi/2) $97;\\nrz(-pi) $98;\\nsx $98;\\nrz(pi/2) $98;\\nsx $99;\\nrz(pi/2) $99;\\nbarrier $72, $62, $61, $60, $53, $115, $116, $117, $118, $110, $100, $99, $98, $97, $96, $95;\\nmeas[0] = measure $72;\\nmeas[1] = measure $62;\\nmeas[2] = measure $61;\\nmeas[3] = measure $60;\\nmeas[4] = measure $53;\\nmeas[5] = measure $115;\\nmeas[6] = measure $116;\\nmeas[7] = measure $117;\\nmeas[8] = measure $118;\\nmeas[9] = measure $110;\\nmeas[10] = measure $100;\\nmeas[11] = measure $99;\\nmeas[12] = measure $98;\\nmeas[13] = measure $97;\\nmeas[14] = measure $96;\\nmeas[15] = measure $95;\\n'"
      ]
     },
     "execution_count": 60,
     "metadata": {},
     "output_type": "execute_result"
    }
   ],
   "source": [
    "openqasm_circuits[0]"
   ]
  },
  {
   "cell_type": "code",
   "execution_count": null,
   "id": "d8a2939f",
   "metadata": {},
   "outputs": [],
   "source": []
  },
  {
   "cell_type": "code",
   "execution_count": null,
   "id": "8f170cb5",
   "metadata": {},
   "outputs": [],
   "source": []
  }
 ],
 "metadata": {
  "kernelspec": {
   "display_name": "ensemble_compilation_env",
   "language": "python",
   "name": "ensemble_compilation_env"
  },
  "language_info": {
   "codemirror_mode": {
    "name": "ipython",
    "version": 3
   },
   "file_extension": ".py",
   "mimetype": "text/x-python",
   "name": "python",
   "nbconvert_exporter": "python",
   "pygments_lexer": "ipython3",
   "version": "3.11.6"
  }
 },
 "nbformat": 4,
 "nbformat_minor": 5
}
