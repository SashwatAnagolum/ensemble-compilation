{
 "cells": [
  {
   "cell_type": "code",
   "execution_count": 1,
   "id": "18161094-49f6-451b-9861-6c544a03c091",
   "metadata": {},
   "outputs": [],
   "source": [
    "import numpy as np\n",
    "\n",
    "from qiskit import QuantumCircuit\n",
    "from qiskit.quantum_info import SparsePauliOp\n",
    "from qiskit.circuit.library import EfficientSU2\n",
    "\n",
    "from qiskit_addon_cutting.instructions import Move\n",
    "from qiskit_addon_cutting import partition_problem\n",
    "from qiskit_addon_cutting import generate_cutting_experiments"
   ]
  },
  {
   "cell_type": "code",
   "execution_count": 2,
   "id": "2bc59a7b",
   "metadata": {},
   "outputs": [],
   "source": [
    "def get_subexperiment_circuits_for_gate_cutting(num_reps):\n",
    "    qc = EfficientSU2(4, entanglement=\"linear\", reps=num_reps).decompose()\n",
    "    qc.assign_parameters([0.4] * len(qc.parameters), inplace=True)\n",
    "    \n",
    "    observable = SparsePauliOp([\"ZZII\", \"IZZI\", \"-IIZZ\", \"XIXI\", \"ZIZZ\", \"IXIX\"])\n",
    "    \n",
    "    partitioned_problem = partition_problem(\n",
    "        circuit=qc, partition_labels=\"AABB\", observables=observable.paulis\n",
    "    )\n",
    "\n",
    "    subcircuits = partitioned_problem.subcircuits\n",
    "    subobservables = partitioned_problem.subobservables\n",
    "    bases = partitioned_problem.bases\n",
    "    \n",
    "    subexperiments, coefficients = generate_cutting_experiments(\n",
    "        circuits=subcircuits, observables=subobservables, num_samples=np.inf\n",
    "    )\n",
    "    \n",
    "    return subexperiments, coefficients, bases"
   ]
  },
  {
   "cell_type": "code",
   "execution_count": 87,
   "id": "01a4ab5c",
   "metadata": {},
   "outputs": [
    {
     "name": "stdout",
     "output_type": "stream",
     "text": [
      "12\n",
      "72\n"
     ]
    }
   ],
   "source": [
    "for i in range(1, 3):\n",
    "    subexperiments, coefficients, bases = get_subexperiment_circuits_for_gate_cutting(i)\n",
    "    \n",
    "    print(len(subexperiments[\"A\"]))"
   ]
  },
  {
   "cell_type": "code",
   "execution_count": 28,
   "id": "0d4a5081-5275-4ed3-9a3e-36286089432a",
   "metadata": {},
   "outputs": [
    {
     "name": "stdout",
     "output_type": "stream",
     "text": [
      "[Instruction(name='sdg', num_qubits=1, num_clbits=0, params=[])]\n",
      "[Instruction(name='h', num_qubits=1, num_clbits=0, params=[]), Instruction(name='sdg', num_qubits=1, num_clbits=0, params=[]), Instruction(name='h', num_qubits=1, num_clbits=0, params=[])]\n",
      "\n",
      "[Instruction(name='s', num_qubits=1, num_clbits=0, params=[])]\n",
      "[Instruction(name='h', num_qubits=1, num_clbits=0, params=[]), Instruction(name='s', num_qubits=1, num_clbits=0, params=[]), Instruction(name='h', num_qubits=1, num_clbits=0, params=[])]\n",
      "\n",
      "[Instruction(name='sdg', num_qubits=1, num_clbits=0, params=[]), Instruction(name='qpd_measure', num_qubits=1, num_clbits=0, params=[])]\n",
      "[]\n",
      "\n",
      "[Instruction(name='sdg', num_qubits=1, num_clbits=0, params=[]), Instruction(name='qpd_measure', num_qubits=1, num_clbits=0, params=[])]\n",
      "[Instruction(name='h', num_qubits=1, num_clbits=0, params=[]), Instruction(name='z', num_qubits=1, num_clbits=0, params=[]), Instruction(name='h', num_qubits=1, num_clbits=0, params=[])]\n",
      "\n",
      "[]\n",
      "[Instruction(name='h', num_qubits=1, num_clbits=0, params=[]), Instruction(name='sdg', num_qubits=1, num_clbits=0, params=[]), Instruction(name='qpd_measure', num_qubits=1, num_clbits=0, params=[]), Instruction(name='h', num_qubits=1, num_clbits=0, params=[])]\n",
      "\n",
      "[Instruction(name='z', num_qubits=1, num_clbits=0, params=[])]\n",
      "[Instruction(name='h', num_qubits=1, num_clbits=0, params=[]), Instruction(name='sdg', num_qubits=1, num_clbits=0, params=[]), Instruction(name='qpd_measure', num_qubits=1, num_clbits=0, params=[]), Instruction(name='h', num_qubits=1, num_clbits=0, params=[])]\n",
      "\n"
     ]
    }
   ],
   "source": [
    "for basis_map in bases[0].maps:\n",
    "    print(basis_map[0])\n",
    "    print(basis_map[1])\n",
    "    print()"
   ]
  },
  {
   "cell_type": "code",
   "execution_count": 89,
   "id": "2f7f67bc",
   "metadata": {},
   "outputs": [
    {
     "data": {
      "text/html": [
       "<pre style=\"word-wrap: normal;white-space: pre;background: #fff0;line-height: 1.1;font-family: &quot;Courier New&quot;,Courier,monospace\">                           ┌─────────┐┌─────────┐     ┌─────────┐┌─────────┐»\n",
       "                    q22_0: ┤ Ry(0.4) ├┤ Rz(0.4) ├──■──┤ Ry(0.4) ├┤ Rz(0.4) ├»\n",
       "                           ├─────────┤├─────────┤┌─┴─┐└──┬───┬──┘├─────────┤»\n",
       "                    q22_1: ┤ Ry(0.4) ├┤ Rz(0.4) ├┤ X ├───┤ S ├───┤ Ry(0.4) ├»\n",
       "                           └─────────┘└─────────┘└───┘   └───┘   └─────────┘»\n",
       "observable_measurements: 2/═════════════════════════════════════════════════»\n",
       "                                                                            »\n",
       "       qpd_measurements: 1/═════════════════════════════════════════════════»\n",
       "                                                                            »\n",
       "«                                           ┌─────────┐┌─────────┐┌─┐   \n",
       "«                    q22_0: ─────────────■──┤ Ry(0.4) ├┤ Rz(0.4) ├┤M├───\n",
       "«                           ┌─────────┐┌─┴─┐├─────────┤├─────────┤└╥┘┌─┐\n",
       "«                    q22_1: ┤ Rz(0.4) ├┤ X ├┤ Ry(0.4) ├┤ Rz(0.4) ├─╫─┤M├\n",
       "«                           └─────────┘└───┘└─────────┘└─────────┘ ║ └╥┘\n",
       "«observable_measurements: 2/═══════════════════════════════════════╩══╩═\n",
       "«                                                                  0  1 \n",
       "«       qpd_measurements: 1/════════════════════════════════════════════\n",
       "«                                                                       </pre>"
      ],
      "text/plain": [
       "                           ┌─────────┐┌─────────┐     ┌─────────┐┌─────────┐»\n",
       "                    q22_0: ┤ Ry(0.4) ├┤ Rz(0.4) ├──■──┤ Ry(0.4) ├┤ Rz(0.4) ├»\n",
       "                           ├─────────┤├─────────┤┌─┴─┐└──┬───┬──┘├─────────┤»\n",
       "                    q22_1: ┤ Ry(0.4) ├┤ Rz(0.4) ├┤ X ├───┤ S ├───┤ Ry(0.4) ├»\n",
       "                           └─────────┘└─────────┘└───┘   └───┘   └─────────┘»\n",
       "observable_measurements: 2/═════════════════════════════════════════════════»\n",
       "                                                                            »\n",
       "       qpd_measurements: 1/═════════════════════════════════════════════════»\n",
       "                                                                            »\n",
       "«                                           ┌─────────┐┌─────────┐┌─┐   \n",
       "«                    q22_0: ─────────────■──┤ Ry(0.4) ├┤ Rz(0.4) ├┤M├───\n",
       "«                           ┌─────────┐┌─┴─┐├─────────┤├─────────┤└╥┘┌─┐\n",
       "«                    q22_1: ┤ Rz(0.4) ├┤ X ├┤ Ry(0.4) ├┤ Rz(0.4) ├─╫─┤M├\n",
       "«                           └─────────┘└───┘└─────────┘└─────────┘ ║ └╥┘\n",
       "«observable_measurements: 2/═══════════════════════════════════════╩══╩═\n",
       "«                                                                  0  1 \n",
       "«       qpd_measurements: 1/════════════════════════════════════════════\n",
       "«                                                                       "
      ]
     },
     "execution_count": 89,
     "metadata": {},
     "output_type": "execute_result"
    }
   ],
   "source": [
    "index = 20\n",
    "subexperiments[\"A\"][index].draw()"
   ]
  },
  {
   "cell_type": "code",
   "execution_count": 92,
   "id": "7b332900",
   "metadata": {},
   "outputs": [
    {
     "data": {
      "text/html": [
       "<pre style=\"word-wrap: normal;white-space: pre;background: #fff0;line-height: 1.1;font-family: &quot;Courier New&quot;,Courier,monospace\">                           ┌─────────┐┌─────────┐┌───┐┌───┐┌───┐     »\n",
       "                    q23_0: ┤ Ry(0.4) ├┤ Rz(0.4) ├┤ H ├┤ S ├┤ H ├──■──»\n",
       "                           ├─────────┤├─────────┤└───┘└───┘└───┘┌─┴─┐»\n",
       "                    q23_1: ┤ Ry(0.4) ├┤ Rz(0.4) ├───────────────┤ X ├»\n",
       "                           └─────────┘└─────────┘               └───┘»\n",
       "observable_measurements: 2/══════════════════════════════════════════»\n",
       "                                                                     »\n",
       "       qpd_measurements: 1/══════════════════════════════════════════»\n",
       "                                                                     »\n",
       "«                           ┌─────────┐┌─────────┐┌───┐┌─────┐┌─┐┌───┐     »\n",
       "«                    q23_0: ┤ Ry(0.4) ├┤ Rz(0.4) ├┤ H ├┤ Sdg ├┤M├┤ H ├──■──»\n",
       "«                           ├─────────┤├─────────┤└───┘└─────┘└╥┘└───┘┌─┴─┐»\n",
       "«                    q23_1: ┤ Ry(0.4) ├┤ Rz(0.4) ├─────────────╫──────┤ X ├»\n",
       "«                           └─────────┘└─────────┘             ║      └───┘»\n",
       "«observable_measurements: 2/═══════════════════════════════════╬═══════════»\n",
       "«                                                              ║           »\n",
       "«       qpd_measurements: 1/═══════════════════════════════════╩═══════════»\n",
       "«                                                              0           »\n",
       "«                           ┌─────────┐┌─────────┐┌─┐   \n",
       "«                    q23_0: ┤ Ry(0.4) ├┤ Rz(0.4) ├┤M├───\n",
       "«                           ├─────────┤├─────────┤└╥┘┌─┐\n",
       "«                    q23_1: ┤ Ry(0.4) ├┤ Rz(0.4) ├─╫─┤M├\n",
       "«                           └─────────┘└─────────┘ ║ └╥┘\n",
       "«observable_measurements: 2/═══════════════════════╩══╩═\n",
       "«                                                  0  1 \n",
       "«       qpd_measurements: 1/════════════════════════════\n",
       "«                                                       </pre>"
      ],
      "text/plain": [
       "                           ┌─────────┐┌─────────┐┌───┐┌───┐┌───┐     »\n",
       "                    q23_0: ┤ Ry(0.4) ├┤ Rz(0.4) ├┤ H ├┤ S ├┤ H ├──■──»\n",
       "                           ├─────────┤├─────────┤└───┘└───┘└───┘┌─┴─┐»\n",
       "                    q23_1: ┤ Ry(0.4) ├┤ Rz(0.4) ├───────────────┤ X ├»\n",
       "                           └─────────┘└─────────┘               └───┘»\n",
       "observable_measurements: 2/══════════════════════════════════════════»\n",
       "                                                                     »\n",
       "       qpd_measurements: 1/══════════════════════════════════════════»\n",
       "                                                                     »\n",
       "«                           ┌─────────┐┌─────────┐┌───┐┌─────┐┌─┐┌───┐     »\n",
       "«                    q23_0: ┤ Ry(0.4) ├┤ Rz(0.4) ├┤ H ├┤ Sdg ├┤M├┤ H ├──■──»\n",
       "«                           ├─────────┤├─────────┤└───┘└─────┘└╥┘└───┘┌─┴─┐»\n",
       "«                    q23_1: ┤ Ry(0.4) ├┤ Rz(0.4) ├─────────────╫──────┤ X ├»\n",
       "«                           └─────────┘└─────────┘             ║      └───┘»\n",
       "«observable_measurements: 2/═══════════════════════════════════╬═══════════»\n",
       "«                                                              ║           »\n",
       "«       qpd_measurements: 1/═══════════════════════════════════╩═══════════»\n",
       "«                                                              0           »\n",
       "«                           ┌─────────┐┌─────────┐┌─┐   \n",
       "«                    q23_0: ┤ Ry(0.4) ├┤ Rz(0.4) ├┤M├───\n",
       "«                           ├─────────┤├─────────┤└╥┘┌─┐\n",
       "«                    q23_1: ┤ Ry(0.4) ├┤ Rz(0.4) ├─╫─┤M├\n",
       "«                           └─────────┘└─────────┘ ║ └╥┘\n",
       "«observable_measurements: 2/═══════════════════════╩══╩═\n",
       "«                                                  0  1 \n",
       "«       qpd_measurements: 1/════════════════════════════\n",
       "«                                                       "
      ]
     },
     "execution_count": 92,
     "metadata": {},
     "output_type": "execute_result"
    }
   ],
   "source": [
    "subexperiments[\"B\"][22].draw()"
   ]
  }
 ],
 "metadata": {
  "kernelspec": {
   "display_name": "ensemble_compilation_env",
   "language": "python",
   "name": "ensemble_compilation_env"
  },
  "language_info": {
   "codemirror_mode": {
    "name": "ipython",
    "version": 3
   },
   "file_extension": ".py",
   "mimetype": "text/x-python",
   "name": "python",
   "nbconvert_exporter": "python",
   "pygments_lexer": "ipython3",
   "version": "3.11.6"
  }
 },
 "nbformat": 4,
 "nbformat_minor": 5
}
